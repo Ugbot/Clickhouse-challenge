{
 "cells": [
  {
   "cell_type": "code",
   "execution_count": null,
   "metadata": {},
   "outputs": [],
   "source": [
    "import os\n",
    "from dotenv import load_dotenv\n",
    "load_dotenv(override=True)\n"
   ]
  },
  {
   "cell_type": "code",
   "execution_count": null,
   "metadata": {},
   "outputs": [],
   "source": [
    "import os\n",
    "from clickhouse_driver import Client\n",
    "service_uri=os.environ.get('CH_SERVICE_URI')\n",
    "\n",
    "client = Client(service_uri.split(':')[0],\n",
    "                user=os.environ.get('CH_USER'),\n",
    "                password=os.environ.get('CH_PASSWORD'),\n",
    "                secure=True,\n",
    "                port=service_uri.split(':')[1]\n",
    "                )\n",
    "\n",
    "client.execute('SHOW DATABASES')"
   ]
  },
  {
   "cell_type": "code",
   "execution_count": null,
   "metadata": {},
   "outputs": [],
   "source": [
    "first_query = 'select lat, long from default.bus_positions where (spd > 15.0) limit 500'\n",
    "out = client.execute(first_query)\n",
    "len(out)"
   ]
  },
  {
   "cell_type": "code",
   "execution_count": null,
   "metadata": {},
   "outputs": [],
   "source": [
    "count_query = 'select count() from default.bus_positions'\n",
    "client.execute(count_query)"
   ]
  },
  {
   "cell_type": "code",
   "execution_count": null,
   "metadata": {},
   "outputs": [],
   "source": [
    "next_query = 'select lat, long from default.bus_positions where (spd > 20.0) limit 500'\n",
    "out = client.execute(next_query)\n",
    "len(out)"
   ]
  },
  {
   "cell_type": "code",
   "execution_count": null,
   "metadata": {},
   "outputs": [],
   "source": [
    "import folium\n",
    "m = folium.Map(location=[60.40, 25.1067], zoom_start=11)\n",
    "for point in out:\n",
    "    try:\n",
    "        folium.Marker(point).add_to(m)\n",
    "    except:\n",
    "        pass\n",
    "    \n",
    "m"
   ]
  },
  {
   "cell_type": "code",
   "execution_count": null,
   "metadata": {},
   "outputs": [],
   "source": [
    "marker_colors = ['red', 'darkred',  'lightred', 'orange', 'beige',\n",
    "                 'green', 'darkgreen', 'lightgreen',\n",
    "                 'blue', 'darkblue', 'cadetblue', 'lightblue',\n",
    "                 'purple',  'darkpurple', 'pink',\n",
    "                 'white', 'gray', 'lightgray', 'black']\n",
    "\n",
    "\n",
    "                 "
   ]
  },
  {
   "cell_type": "code",
   "execution_count": null,
   "metadata": {},
   "outputs": [],
   "source": [
    "out = client.execute('select max (spd) from default.bus_positions')\n",
    "out\n"
   ]
  },
  {
   "cell_type": "markdown",
   "metadata": {},
   "source": [
    "This is an interesting one as it lets us map colors to speed :)\n"
   ]
  },
  {
   "cell_type": "code",
   "execution_count": null,
   "metadata": {},
   "outputs": [],
   "source": [
    "import math\n",
    "def colorise(speed_in: float)-> str:\n",
    "    return marker_colors[math.floor(speed_in/50)]\n"
   ]
  },
  {
   "cell_type": "code",
   "execution_count": null,
   "metadata": {},
   "outputs": [],
   "source": [
    "import folium\n",
    "def make_map(my_points):\n",
    "    map = folium.Map(location=[60.40, 25.1067], zoom_start=11)\n",
    "\n",
    "    for point in my_points:\n",
    "        try:\n",
    "            folium.Marker(location=[point[0], point[1]],  icon=folium.Icon(color=colorise(point[2])) ).add_to(map)\n",
    "        except:\n",
    "            pass\n",
    "\n",
    "    return map"
   ]
  },
  {
   "cell_type": "code",
   "execution_count": null,
   "metadata": {},
   "outputs": [],
   "source": [
    "# aggregate points to polyline sorted by the timestamp\n",
    "import folium\n",
    "track_query = (\n",
    "'select oper, veh, '\n",
    "'groupArray(tuple(tsi, tuple(lat, long))) as track, '\n",
    "'arraySort((x) -> x.1, track) '\n",
    "'from default.bus_positions '\n",
    "'group by oper, veh')\n",
    "result = client.execute(track_query)\n"
   ]
  },
  {
   "cell_type": "code",
   "execution_count": null,
   "metadata": {},
   "outputs": [],
   "source": [
    "# create polyline for the first vehicle\n",
    "# TODO 1) detect discontinuation based on time between points 2) still some strange overlapping if using operator and vehicle id as unique vehicle indentifier\n",
    "map = folium.Map(location=[60.40, 25.1067], zoom_start=11)\n",
    "color_str =''\n",
    "for vehicle in result:\n",
    "    points = [x[1] for x in vehicle[3]]\n",
    "    folium.PolyLine(points).add_to(map)\n",
    "\n",
    "#\n",
    "# for point in out:\n",
    "#    try:\n",
    "#        folium.Marker(location=[point[0], point[1]], color = colorise(point[2])).add_to(map)\n",
    "#\n",
    "#    except:\n",
    "#        pass\n",
    "        \n",
    "map"
   ]
  },
  {
   "cell_type": "code",
   "execution_count": null,
   "metadata": {},
   "outputs": [],
   "source": []
  }
 ],
 "metadata": {
  "kernelspec": {
   "display_name": "Python 3",
   "language": "python",
   "name": "python3"
  },
  "language_info": {
   "codemirror_mode": {
    "name": "ipython",
    "version": 3
   },
   "file_extension": ".py",
   "mimetype": "text/x-python",
   "name": "python",
   "nbconvert_exporter": "python",
   "pygments_lexer": "ipython3",
   "version": "3.7.2"
  },
  "vscode": {
   "interpreter": {
    "hash": "4b04f0bee5033fd3e1ad239536ecba3abf1029d3f2f2ebee5a45167a64cc9fc9"
   }
  }
 },
 "nbformat": 4,
 "nbformat_minor": 4
}
