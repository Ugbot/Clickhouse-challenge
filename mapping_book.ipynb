{
 "cells": [
  {
   "cell_type": "markdown",
   "metadata": {},
   "source": [
    "Welcome to the Aiven Clickhouse challenge!\n",
    "\n",
    "With the launch of Aiven for Clickhouse We finally have the \"C\" for our KFC stack, the best combination of tools for realtime aleart and historic analytics.\n",
    "\n",
    "The stack untilises Apache Kafka, Apache Flink, and Clickhouse to build up a robust, scleable architecture for getting the most from your data, whether it be batched ETL or realtime sensors.\n",
    "\n",
    "For this challenge, We'll be using realtime data from [digitransit](https://digitransit.fi/en/developers/apis/4-realtime-api/) to plot maps and find new insights.\n",
    "\n",
    "Digitransit provides reatime bus informantion and positioning information for busses in Helsinki, We've saved out a few weeks worth of data as a CSV to experiemnt with.\n",
    "\n",
    "The goal is to find the best bus routes between the different KFC restaurants in Helsinki. To enter, create a trial account on Aiven to generate and to process the data, Find the routes, plot them on a map and tag us / DM us on twitter with a screen shot of a map with these routes plotted on it.  \n",
    "\n",
    "The prize for this is a limited edition Hat + The knowledge that you can indeed navigate public transport with the right SQL statement.\n",
    "\n",
    "This notbook domes with a few starter queries and a mapping library to get you started. none of the queries here needed but they should help you get started. \n",
    "\n",
    "Please see the Aiven [docs](https://docs.aiven.io/docs/products/clickhouse/getting-started.html) for Clickhouse info on how to get step up and the main clickhouse [docs](https://clickhouse.com/docs/en/sql-reference) to for advanced SQL information \n",
    "\n",
    "For more help/ questions ping us on twitter [@aiven_io](https://twitter.com/aiven_io), or me [@Bengamble7](https://twitter.com/BenGamble7) and we'll provide hints and even more terrible puns and clickhouse, or any of our 11 ~~secrect herbs and spices~~ products\n",
    "\n",
    "\n"
   ]
  },
  {
   "cell_type": "code",
   "execution_count": null,
   "metadata": {},
   "outputs": [],
   "source": [
    "\n",
    "from clickhouse_driver import Client\n",
    "client = Client('YOUR-CLICKHOUSE-URL',\n",
    "                user='avnadmin',\n",
    "                password='YOUR-PASSWORD',\n",
    "                secure=True,\n",
    "                port='YOUR-PORT',\n",
    "                )\n",
    "\n",
    "#to confirm its all wowrking\n",
    "client.execute('SHOW DATABASES')"
   ]
  },
  {
   "cell_type": "code",
   "execution_count": null,
   "metadata": {},
   "outputs": [],
   "source": [
    "\n",
    "#So there is a lot of data here \n",
    "count_query = 'select count() from default.DigitransitINPUT'\n",
    "\n",
    "out = client.execute(count_query)\n",
    "\n",
    "out"
   ]
  },
  {
   "cell_type": "code",
   "execution_count": null,
   "metadata": {},
   "outputs": [],
   "source": [
    "#This is a very narrow query but it shows what you can do (limit is quite important)\n",
    "first_query = 'select lat, long from default.DigitransitINPUT where (veh = 1344) AND (spd > 15.0) limit 500'\n",
    "\n",
    "out = client.execute(first_query)\n",
    "\n",
    "len(out)\n"
   ]
  },
  {
   "cell_type": "code",
   "execution_count": null,
   "metadata": {},
   "outputs": [],
   "source": [
    "next_query = 'select lat, long from default.DigitransitINPUT where  (spd > 45.0) limit 500'\n",
    "\n",
    "out = client.execute(next_query)\n",
    "\n",
    "len(out)\n"
   ]
  },
  {
   "cell_type": "markdown",
   "metadata": {},
   "source": [
    "For mapping I've selected [Folium](http://python-visualization.github.io/folium/)\n",
    "\n",
    "Its pretty, fast and flexible\n",
    "\n",
    "Here, it's set to the center of the Helsinki Metro area"
   ]
  },
  {
   "cell_type": "code",
   "execution_count": null,
   "metadata": {},
   "outputs": [],
   "source": [
    "import folium\n",
    "m = folium.Map(location=[60.40, 25.1067], zoom_start=11)\n",
    "\n",
    "for point in out:\n",
    "    try:\n",
    "        folium.Marker(point).add_to(m)\n",
    "    except:\n",
    "        pass\n",
    "    \n",
    "m"
   ]
  },
  {
   "cell_type": "code",
   "execution_count": null,
   "metadata": {},
   "outputs": [],
   "source": [
    "out = client.execute('select max (spd) from default.DigitransitINPUT')\n",
    "out\n"
   ]
  },
  {
   "cell_type": "markdown",
   "metadata": {},
   "source": [
    "This is an interesting one as it lets us map colors to speed :)\n"
   ]
  },
  {
   "cell_type": "code",
   "execution_count": null,
   "metadata": {},
   "outputs": [],
   "source": [
    "import math\n",
    "\n",
    "marker_colors = ['red', 'darkred',  'lightred', 'orange', 'beige',\n",
    "                 'green', 'darkgreen', 'lightgreen',\n",
    "                 'blue', 'darkblue', 'cadetblue', 'lightblue',\n",
    "                 'purple',  'darkpurple', 'pink',\n",
    "                 'white', 'gray', 'lightgray', 'black']\n",
    "\n",
    "\n",
    "\n",
    "def colorise(speed_in: float)-> str:\n",
    "    return marker_colors[math.floor(speed_in/50)]"
   ]
  },
  {
   "cell_type": "code",
   "execution_count": null,
   "metadata": {},
   "outputs": [],
   "source": [
    "def make_map(my_points):\n",
    "    map = folium.Map(location=[60.40, 25.1067], zoom_start=11)\n",
    "\n",
    "    for point in my_points:\n",
    "        try:\n",
    "            folium.Marker(location=[point[0], point[1]],  icon=folium.Icon(color=colorise(point[2])) ).add_to(map)\n",
    "        except:\n",
    "            pass\n",
    "\n",
    "    return map"
   ]
  },
  {
   "cell_type": "code",
   "execution_count": null,
   "metadata": {},
   "outputs": [],
   "source": [
    "next_query = 'select lat, long, spd from default.DigitransitINPUT limit 500'\n",
    "out = client.execute(next_query)\n",
    "\n",
    "map = folium.Map(location=[60.40, 25.1067], zoom_start=11)\n",
    "color_str =''\n",
    "for point in out:\n",
    "    try:\n",
    "        folium.Marker(location=[point[0], point[1]], color = colorise(point[2])).add_to(map)\n",
    "\n",
    "    except:\n",
    "        pass\n",
    "\n",
    "        \n",
    "map"
   ]
  }
 ],
 "metadata": {
  "kernelspec": {
   "display_name": "Python 3.9.12 ('base')",
   "language": "python",
   "name": "python3"
  },
  "language_info": {
   "codemirror_mode": {
    "name": "ipython",
    "version": 3
   },
   "file_extension": ".py",
   "mimetype": "text/x-python",
   "name": "python",
   "nbconvert_exporter": "python",
   "pygments_lexer": "ipython3",
   "version": "3.9.12"
  },
  "orig_nbformat": 4,
  "vscode": {
   "interpreter": {
    "hash": "6a04e57b52821e71f18c0f91d73c722d28f8feaba23a3f6f20212ebb45b72b26"
   }
  }
 },
 "nbformat": 4,
 "nbformat_minor": 2
}
